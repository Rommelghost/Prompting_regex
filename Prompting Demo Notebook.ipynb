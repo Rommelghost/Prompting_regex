{
 "cells": [
  {
   "cell_type": "markdown",
   "id": "678646c7",
   "metadata": {},
   "source": [
    "<h1><center><span style=\"color:blue;\">Guía de Prompting para expresiones regulares en ChatGPT</span></center></h1>"
   ]
  },
  {
   "cell_type": "markdown",
   "id": "53af62c1",
   "metadata": {},
   "source": [
    "---\n",
    "## __Elaborado por:__\n",
    "- Cespedes Jamryk Rodrigo   **(Rodcj21)**\n",
    "- Estrella Guerra Danilo   **(Danflea)**\n",
    "- Prado Alhuay Rommel   **(Rommelghost)**\n",
    "\n",
    "![Portada](Dummies_3.jpg)\n",
    "\n",
    "---"
   ]
  },
  {
   "cell_type": "markdown",
   "id": "d7cd6335",
   "metadata": {},
   "source": [
    "## Introducción"
   ]
  },
  {
   "cell_type": "markdown",
   "id": "f601f1f7",
   "metadata": {},
   "source": [
    "Este manual busca que el usuario lleve tareas de Expresiones regulares a través del uso de técnicas de Prompt, específicamente usando el modelo de lenguaje largo ChatGPT\n",
    "\n",
    "Para iniciar, vamos a conocer la respuesta a tres preguntas simples, pero esenciales:"
   ]
  },
  {
   "cell_type": "markdown",
   "id": "7cd26663",
   "metadata": {},
   "source": [
    "**¿Qué son las EXPRESIONES REGULARES?**\n",
    "\n",
    "Las expresiones regulares son patrones utilizados para encontrar una determinada combinación de caracteres dentro de una cadena de texto; es decir, podremos usar estos patrones para validar si una cadena de texto cumple determinados criterios."
   ]
  },
  {
   "cell_type": "markdown",
   "id": "da6f8618",
   "metadata": {},
   "source": [
    "**¿Qué son los PROMPTS?**\n",
    "\n",
    "Un prompt es una instrucción, pregunta o un texto que se utiliza para interactuar con sistemas de inteligencia artificial. Podríamos decir que es como un comando, con el que vas a pedirle a este sistema que realice una tarea concreta.\n",
    "Las peticiones las harás a través de los prompts, que son los que utilizas para comunicarte con este sistema de IA.\n",
    "Cuando se lo escribes, la inteligencia artificial analizará lo escrito en el prompt, y generará un contenido acorde a lo que le hayas pedido en este. Por lo tanto, es muy importante que te asegures de incluir todo lo que quieres de la manera que quieras."
   ]
  },
  {
   "cell_type": "markdown",
   "id": "fb31878e",
   "metadata": {},
   "source": [
    "**¿Por qué son importantes los PROMPTS para trabajar con ChatGPT?**\n",
    "\n",
    "Al escribir tus indicaciones, ten en cuenta que CHATGPT está tratando de adivinar lo que debería seguir. Por lo tanto, es importante proporcionar instrucciones claras y ejemplos útiles. De esta manera, puedes ayudar a ChatGPT a entender el contexto y lograr la mejor finalización posible.\n",
    "\n",
    "La calidad de el resultado que obtienes de una IA depende de tu prompt, depende de lo que hayas incluido en él. Por lo tanto, son el bien más importante para los usuarios que interactúan con estos automatismos digitales, ya que de ellos depende que el resultado sea acorde con lo que quieren o no."
   ]
  },
  {
   "cell_type": "markdown",
   "id": "e414a5ef",
   "metadata": {},
   "source": [
    "## A. Sintaxis Básica de Expresiones Regulares\n",
    "\n",
    "Antes de sumergirnos en técnicas avanzadas de \"prompting\", asegurémonos de tener una comprensión sólida de las expresiones regulares en sí. Aquí hay algunos conceptos clave:"
   ]
  },
  {
   "cell_type": "markdown",
   "id": "55b096ec",
   "metadata": {},
   "source": [
    "- **Coincidencias básicas:** Representan caracteres específicos.\n",
    "\n",
    "| Regex   | Descripción |\n",
    "|:-------:|:------------|\n",
    "| .       | Coincide con cualquier caracter, excepto con nueva linea |\n",
    "| \\d      | Coincide con cualquier dígito (0-9) |\n",
    "| \\D      | Coincide con cualquier caracter que no sea un dígito (0-9) |\n",
    "| \\w      | Coincide con cualquier caracter de palabra (a-z, A-Z, 0-9, _) |\n",
    "| \\W      | Coincide con cualquier caracter que no es de palabra |\n",
    "| \\s      | Coincide con espacios de cualquier tipo. (espacio, tab, nueva linea) |\n",
    "| \\S      | Coincide con cualquier carácter que no sea un espacio |\n"
   ]
  },
  {
   "cell_type": "code",
   "execution_count": 1,
   "id": "a055d5d7",
   "metadata": {},
   "outputs": [
    {
     "name": "stdout",
     "output_type": "stream",
     "text": [
      "1\n",
      "2\n",
      "3\n",
      "4\n",
      "El número de coincidencias es: 4\n"
     ]
    }
   ],
   "source": [
    "#Ejemplo en código: Coincidencia dígitos\n",
    "import re\n",
    "\n",
    "texto = \" inserte @1234_  texto\" #texto de ejemplo\n",
    "n = 0 \n",
    "for linea in texto:\n",
    "    if re.search(\"\\d\", linea): \n",
    "        print(linea) \n",
    "        n = n+1\n",
    "        \n",
    "print(\"El número de coincidencias es:\",n)"
   ]
  },
  {
   "cell_type": "markdown",
   "id": "611308b1",
   "metadata": {},
   "source": [
    "- **Límites:** Especifican la posición en el texto.\n",
    "\n",
    "| Regex | Descripción |\n",
    "|:-----:|:------------|\n",
    "| ^     | Representa el principio de una línea de texto |\n",
    "| $     | Representa el final de una línea de texto |\n",
    "| \\b    | Coincide con el límite de palabra |\n",
    "| \\B    | No coincide con el límite de palabra |"
   ]
  },
  {
   "cell_type": "markdown",
   "id": "e3780458",
   "metadata": {},
   "source": [
    "- **Cuantificadores:** Especifican la cantidad de veces que un elemento puede aparecer.\n",
    "\n",
    "| Regex | Descripción |\n",
    "|:-----:|:------------|\n",
    "| ?     | Coincide con el elemento anterior 0 o 1 vez\n",
    "| *     | Coincide con el elemento anterior 0 o más veces\n",
    "| *?    | Coincide con el elemento anterior 0 o más veces, pero el menor número de veces que sea posible\n",
    "| +     | Coincide con el elemento anterior 1 o más veces\n",
    "| +?    | Coincide con el elemento anterior 1 o más veces, pero el menor número de veces que sea posible.\n",
    "| ??    | Coincide con el elemento anterior 0 o una vez, pero el menor número de veces que sea posible."
   ]
  },
  {
   "cell_type": "markdown",
   "id": "eec765cc",
   "metadata": {},
   "source": [
    "- __Grupos y conjuntos de caracteres:__ Representan conjuntos de caracteres (por ejemplo, [0-9] para dígitos). Utilizar paréntesis para agrupar y capturar partes de la expresión.\n",
    "\n",
    "| Regex  | Descripción |\n",
    "|:------:|:------------|\n",
    "| (   )  | Grupo - Coincide con una agrupación de algunos caracteres dentro de una expresión regular |\n",
    "| ( │ )  | En un grupo, seleccionar uno u otro |\n",
    "|[ ]     | Set - Busca todas los caracteres especificadas entre los corchetes |\n",
    "|[^  ]   | Busca todos los caracteres no especificados dentro de los corchetes |\n",
    "|{ }     | Si un carácter aparece tantas veces como se especifica en las llaves |"
   ]
  },
  {
   "cell_type": "markdown",
   "id": "46416df8",
   "metadata": {},
   "source": [
    "### Funciones para el uso de las RegEx en Python\n",
    "\n",
    "Para usar expresiones regulares en Python, hay una serie de funciones que te ayudarán. Todas estas funciones se encuentran en un módulo de Python llamado “re”, el cual debe ser importado antes de trabajar con expresiones regulares:\n",
    "\n",
    "```python\n",
    "import re\n",
    "```\n",
    "\n",
    "- __re.findall(__ _patrón, cadena_ __)__: Toma un patrón de búsqueda y una cadena y retorna una lista que contiene todas las coincidencias en el orden en que fueron encontradas. \n",
    " - Si no se encuentra ninguna coincidencia, retorna una lista vacía."
   ]
  },
  {
   "cell_type": "code",
   "execution_count": 24,
   "id": "0f600bad",
   "metadata": {},
   "outputs": [
    {
     "name": "stdout",
     "output_type": "stream",
     "text": [
      "['después', 'de', 'días']\n"
     ]
    }
   ],
   "source": [
    "#Ejemplo re.findall en código: Hallar todas las palabras que comienzan con d en una cadena\n",
    "import re\n",
    "cadena = \"después de muchos días\"\n",
    "print(re.findall('d[a-zÀ-ÿ]*', cadena))"
   ]
  },
  {
   "cell_type": "markdown",
   "id": "d81079aa",
   "metadata": {},
   "source": [
    "- __re.sub(__ _patrón, reemplazo, cadena, *conteo_ __)__: Sobrescribe todas las coincidencias con un texto de tu elección.\n",
    "\n",
    " - Retorna la cadena obtenida reemplazando las ocurrencias no superpuestas del patrón en la cadena por el reemplazo. \n",
    " - Si el patrón no se encuentra, se retorna string sin cambios.\n",
    "\n",
    "_*conteo: Parámetro opcional._ Si no deseas sobrescribir todas las coincidencias, sino solo algunas, puedes especificar un número como cuarto parámetro, que indica cuántas coincidencias deben reemplazarse, empezando por la primera."
   ]
  },
  {
   "cell_type": "code",
   "execution_count": 60,
   "id": "e1dde111",
   "metadata": {},
   "outputs": [
    {
     "name": "stdout",
     "output_type": "stream",
     "text": [
      "hoy*es*un*buen*día*\n",
      "hoy*es*un buen día \n"
     ]
    }
   ],
   "source": [
    "#Ejemplo re.sub en código: Reemplazar los espacios en blanco por *\n",
    "import re\n",
    "cadena = \"hoy es un buen día \"\n",
    "regex = \"\\s\"\n",
    "resultado1 = re.sub(regex, \"*\", cadena)\n",
    "print(resultado1)\n",
    "resultado2 = re.sub(regex, \"*\", cadena, 2)\n",
    "print(resultado2)"
   ]
  },
  {
   "cell_type": "markdown",
   "id": "43ae1643",
   "metadata": {},
   "source": [
    "- __re.split(__ _patrón, cadena, *máximo_ __)__: Divide la cadena por el número de ocurrencias del patrón.\n",
    "\n",
    "_*máximo: Parámetro opcional._ Si quieres dividir una cadena solo un número limitado de veces, puedes incluir un número como tercer parámetro. Este determina el número máximo de particiones."
   ]
  },
  {
   "cell_type": "code",
   "execution_count": 54,
   "id": "bbeb96ea",
   "metadata": {},
   "outputs": [
    {
     "name": "stdout",
     "output_type": "stream",
     "text": [
      "['hoy', 'es', 'un', 'buen', 'dia']\n",
      "['hoy', 'es', 'un buen dia']\n"
     ]
    }
   ],
   "source": [
    "#Ejemplo re.split en código: Separar cada palabra en una lista\n",
    "import re\n",
    "cadena = \"hoy es un buen dia\"\n",
    "regex = \"\\s\"\n",
    "resultado1 = re.split(regex, cadena)\n",
    "print(resultado1)\n",
    "resultado2 = re.split(regex, cadena, 2)\n",
    "print(resultado2)"
   ]
  },
  {
   "cell_type": "markdown",
   "id": "243b1ee4",
   "metadata": {},
   "source": [
    "- __re.search(__ _patrón, cadena_ __)__: Busca una coincidencia en una cadena.\n",
    " - Retorna un objeto Python coincidente que siempre se refiere a la primera coincidencia encontrada.\n",
    " - Si no se encuentra ninguna coincidencia, la función devuelve el valor “None”. "
   ]
  },
  {
   "cell_type": "code",
   "execution_count": 81,
   "id": "d8f5781f",
   "metadata": {},
   "outputs": [
    {
     "name": "stdout",
     "output_type": "stream",
     "text": [
      "<re.Match object; span=(0, 7), match='estamos'>\n",
      "None\n"
     ]
    }
   ],
   "source": [
    "#Ejemplo re.search en código: Buscar la primera coincidencia que empiece con e\n",
    "import re\n",
    "cadena = \"estamos esperando aquí\"\n",
    "regex = 'e[a-zÀ-ÿ]*'\n",
    "print(re.search(regex, cadena))\n",
    "\n",
    "#Ejemplo re.search en código: Buscar la primera coincidencia que empiece con f\n",
    "import re\n",
    "cadena = \"estamos esperando aquí\"\n",
    "regex = 'f[a-zÀ-ÿ]*'\n",
    "print(re.search(regex, cadena))"
   ]
  },
  {
   "cell_type": "markdown",
   "id": "7a475ceb",
   "metadata": {},
   "source": [
    "---"
   ]
  },
  {
   "cell_type": "markdown",
   "id": "acbe962c",
   "metadata": {},
   "source": [
    "# B. Diseñamos nuestras primeras expresiones regulares apoyandonos de ChatGPT\n",
    "\n",
    "### 1. Elaboremos nuestras expresiones regulares\n",
    "**PASO 1: Importamos el módulo *re***  \n",
    "Hay que asegurarnos de importar el módulo “re” antes de iniciar nuestros scripts en Notebook. El módulo “re”, nos proporcionará las funciones para empezar a trabajar con las expresiones regulares.\n",
    "\n"
   ]
  },
  {
   "cell_type": "code",
   "execution_count": 1,
   "id": "f06de9a2",
   "metadata": {},
   "outputs": [],
   "source": [
    "import re"
   ]
  },
  {
   "cell_type": "markdown",
   "id": "622a82b3",
   "metadata": {},
   "source": [
    "**PASO 2: Creamos nuestra expresión regular**  \n",
    "Hay que definir la expresión regular que queremos usar. Podemos hacerlo en conjunto con los strings a extraer la información:"
   ]
  },
  {
   "cell_type": "code",
   "execution_count": 3,
   "id": "8e8e9cd3",
   "metadata": {},
   "outputs": [],
   "source": [
    "# Por ejemplo, para extraer fechas en formato dd/mm/yyyy\n",
    "regex = r'(\\d{2})/(\\d{2})/(\\d{4})'\n",
    "string = \"La fecha de hoy es 04/12/2023.\""
   ]
  },
  {
   "cell_type": "markdown",
   "id": "876d3b50",
   "metadata": {},
   "source": [
    "**PASO 3: Aplicamos las funciones predefinidas del módulo *re***  \n",
    "Existen una serie de funciones predefinidas que nos ayudarán. Todas estas funciones se encuentran en un módulo llamado “*re*” (El cual fue importado en el Paso 1). En el capítulo A de este manual, hemos conocido con más detalle la aplicación de cada una de estas funciones."
   ]
  },
  {
   "cell_type": "code",
   "execution_count": 7,
   "id": "c6965959",
   "metadata": {},
   "outputs": [],
   "source": [
    "#re.findall\n",
    "#re.sub\n",
    "#re.split\n",
    "#re.search"
   ]
  },
  {
   "cell_type": "markdown",
   "id": "4f4724a9",
   "metadata": {},
   "source": [
    "**PASO 4: Codificamos el formato de los resultados buscados**    \n",
    "Si nuestra expresión regular tiene grupos de captura (Regex encerrados en paréntesis en la función aplicada), podemos acceder a ellos utilizando el método group() del objeto de coincidencia."
   ]
  },
  {
   "cell_type": "code",
   "execution_count": 10,
   "id": "93b3e56d",
   "metadata": {},
   "outputs": [
    {
     "name": "stdout",
     "output_type": "stream",
     "text": [
      "Día: 04\n",
      "Mes: 12\n",
      "Año: 2023\n"
     ]
    }
   ],
   "source": [
    "resultado = re.search(regex, string)\n",
    "\n",
    "if resultado:\n",
    "    print(\"Día:\", resultado.group(1))\n",
    "    print(\"Mes:\", resultado.group(2))\n",
    "    print(\"Año:\", resultado.group(3))\n",
    "else:\n",
    "    print(\"No hay coincidencias.\")"
   ]
  },
  {
   "cell_type": "markdown",
   "id": "ee7657c0",
   "metadata": {},
   "source": [
    "### 2. ¡Empecemos a crear consultas efectivas de expresiones regulares en ChatGPT!\n",
    "\n",
    "Poemos usar ChatGPT o cualquier MLL para mejorar nuestras expresiones regulares, obtener ideas sobre cómo manejar casos específicos o incluso generar expresiones regulares más complejas.\n",
    "\n",
    "**Paso 1: Definir un objetivo claro**  \n",
    "Antes de empezar, debemos tener claro el objetivo de nuestra expresión regular.\n",
    "\n",
    "**Paso 2: Iniciamos nuestra conversación con la MLL**  \n",
    "Para ello, podemos seguir las siguientes recomendaciones:\n",
    "- Debemos escribir instrucciones muy específicas y concretas de lo que queremos obtener. \n",
    "- Darle el contexto a la herramienta.\n",
    "- Asigna en el prompt un rol de experto para Chat GPT en el tema que quieres desarrollar.\n",
    "- Indicarle nuestros objetivos o intenciones.\n",
    "\n",
    "Dejaremos un ejemplo aplicado:"
   ]
  },
  {
   "cell_type": "markdown",
   "id": "5491eff2",
   "metadata": {},
   "source": [
    "![Paso2](Paso2.jpg)"
   ]
  },
  {
   "cell_type": "markdown",
   "id": "f7560c67",
   "metadata": {},
   "source": [
    "**Paso 3: Analizar la Respuesta de ChatGPT**  \n",
    "Validemos nuestras respuestas, no creamos todo lo que ChatGPT nos dice. ChatGPT proporcionará ejemplos y explicaciones que podrían ayudarte a entender cómo construir tu expresión regular. Presta atención a los patrones sugeridos y cómo manejar diferentes casos."
   ]
  },
  {
   "cell_type": "markdown",
   "id": "d329a14f",
   "metadata": {},
   "source": [
    "![Paso3](Paso3.jpg)"
   ]
  },
  {
   "cell_type": "markdown",
   "id": "6dabebc1",
   "metadata": {},
   "source": [
    "**Paso 4: Hagamos una prueba de nuestra Expresión Regular**  \n",
    "Usaremos herramientas en línea o a el entorno de desarrollo de Pytho para probar nuestra expresión regular con ejemplos de texto. De ser necesario, vamos a realizar ajustes."
   ]
  },
  {
   "cell_type": "markdown",
   "id": "83664a95",
   "metadata": {},
   "source": [
    "![Paso4](Paso4.jpg)"
   ]
  },
  {
   "cell_type": "markdown",
   "id": "8fb99541",
   "metadata": {},
   "source": [
    "**Paso 5: Implementar en tu Aplicación**  \n",
    "Integramos nuestra expresión regular en el script de Notebook o Phyton."
   ]
  },
  {
   "cell_type": "code",
   "execution_count": 5,
   "id": "913460f1",
   "metadata": {},
   "outputs": [
    {
     "name": "stdout",
     "output_type": "stream",
     "text": [
      "['usuario@example.com']\n"
     ]
    }
   ],
   "source": [
    "import re\n",
    "\n",
    "texto = \"Este es un ejemplo de un correo electrónico: usuario@example.com\"\n",
    "\n",
    "patron = r'\\b[A-Za-z0-9._%+-]+@[A-Za-z0-9.-]+\\.[A-Z|a-z]{2,}\\b'\n",
    "correos_electronicos = re.findall(patron, texto)\n",
    "\n",
    "print(correos_electronicos)"
   ]
  },
  {
   "cell_type": "markdown",
   "id": "d4fa15a9",
   "metadata": {},
   "source": [
    "**Paso 6: Refinar y Optimizar**  \n",
    "Si encuentras casos que tu expresión regular no maneja correctamente, refínala. Puedes repetir los pasos 3-6 para mejorar y optimizar tu expresión regular."
   ]
  },
  {
   "cell_type": "markdown",
   "id": "aebcaffe",
   "metadata": {},
   "source": [
    "### <center>¡Recuerda que mientras más específica sea tu pregunta a ChatGPT, mejores respuestas obtendrás!</center>"
   ]
  },
  {
   "cell_type": "markdown",
   "id": "b8280275",
   "metadata": {},
   "source": [
    "---"
   ]
  },
  {
   "cell_type": "markdown",
   "id": "b9121ed3",
   "metadata": {},
   "source": [
    "# C. Ejemplos de Prompts para utilizar Expresiones Regulares (RegEx)"
   ]
  },
  {
   "cell_type": "markdown",
   "id": "89255d96",
   "metadata": {},
   "source": [
    "### 1. Extracción de oraciones de un articulo"
   ]
  },
  {
   "cell_type": "markdown",
   "id": "6f963da3",
   "metadata": {},
   "source": [
    "**Paso 1**: Queremos extraer las primeras oraciones de un artículo cientifico que lo tenemos en un archivo .txt"
   ]
  },
  {
   "cell_type": "markdown",
   "id": "cc2efa1b",
   "metadata": {},
   "source": [
    "**Paso 2**: Procedemos a pedirle a ChatGPT un regex que nos permita el codigo deseado"
   ]
  },
  {
   "cell_type": "markdown",
   "id": "eb26d821",
   "metadata": {},
   "source": [
    "![Obteniendo regex](imagen2.jpg)\n"
   ]
  },
  {
   "cell_type": "markdown",
   "id": "7c4c7841",
   "metadata": {},
   "source": [
    "**Paso 3**: Analizaremos el siguiente regex, usaremos un validador de regex como [Regex101](http://regex101.com/)"
   ]
  },
  {
   "cell_type": "markdown",
   "id": "05ac0815",
   "metadata": {},
   "source": [
    "![analizando](imagen3.jpg)"
   ]
  },
  {
   "cell_type": "markdown",
   "id": "c7df4022",
   "metadata": {},
   "source": [
    "**Paso 4**: Ahora le pediremos a ChatGPT que lo implemente en un codigo de Python"
   ]
  },
  {
   "cell_type": "markdown",
   "id": "b409aedd",
   "metadata": {},
   "source": [
    "![Implementación](imagen4.jpg)"
   ]
  },
  {
   "cell_type": "markdown",
   "id": "8b74e72f",
   "metadata": {},
   "source": [
    "**Paso 5**: En este paso aplicaremos el codigo proporcionado por ChatGPT"
   ]
  },
  {
   "cell_type": "code",
   "execution_count": 8,
   "id": "e8c899be",
   "metadata": {},
   "outputs": [
    {
     "name": "stdout",
     "output_type": "stream",
     "text": [
      "('Cilia are sensory organelles that protrude from cell surfaces to monitor the surrounding environment.', 'In addition to its role as sensory receiver, the cilium also releases extracellular vesicles (EVs).', 'The release of sub-micron sized EVs is a conserved form of intercellular communication used by all three kingdoms of life.')\n"
     ]
    }
   ],
   "source": [
    "import re\n",
    "\n",
    "with open(\"ciliary.txt\", \"r\") as file:\n",
    "    texto = file.read()\n",
    "\n",
    "# Aplicar la expresión regular\n",
    "match = re.search(r'^(.*?[.!?])\\s(.*?[.!?])\\s(.*?[.!?])', texto)\n",
    "if match:\n",
    "    primeras_tres_oraciones = match.groups()\n",
    "    print(primeras_tres_oraciones)\n"
   ]
  },
  {
   "cell_type": "markdown",
   "id": "09942a26",
   "metadata": {},
   "source": [
    "### 2. Validación de Números de Teléfono en Formularios"
   ]
  },
  {
   "cell_type": "markdown",
   "id": "15539173",
   "metadata": {},
   "source": [
    "**Paso 1: Definir un objetivo claro**  \n",
    "Validar los numeros telefónicos de un formulario"
   ]
  },
  {
   "cell_type": "markdown",
   "id": "8a320fe2",
   "metadata": {},
   "source": [
    "**Paso 2: Iniciamos nuestra conversación con la MLL**\n",
    "![Ejercicio2_paso2](Ejercicio2_paso2.jpg)"
   ]
  },
  {
   "cell_type": "markdown",
   "id": "02d389d3",
   "metadata": {},
   "source": [
    "**Paso 3: Analizar la Respuesta de ChatGPT**\n",
    "![Ejercicio2_paso3](Ejercicio2_paso3.jpg)"
   ]
  },
  {
   "cell_type": "markdown",
   "id": "8c8306ca",
   "metadata": {},
   "source": [
    "**Paso 4: Hagamos una prueba de nuestra Expresión Regular**\n",
    "![Ejercicio2_paso4](Ejercicio2_paso4.jpg)"
   ]
  },
  {
   "cell_type": "markdown",
   "id": "0c4b01b5",
   "metadata": {},
   "source": [
    "**Paso 5: Implementamos en nuestra Aplicación**"
   ]
  },
  {
   "cell_type": "code",
   "execution_count": 17,
   "id": "75b27893",
   "metadata": {},
   "outputs": [
    {
     "name": "stdout",
     "output_type": "stream",
     "text": [
      "(123) 456-7890 válido.\n",
      "   (456) 789-0123    válido.\n",
      "987-654-3210 no válido.\n",
      "(555)123-4567 válido.\n",
      "(111) 22-3333 no válido.\n"
     ]
    }
   ],
   "source": [
    "import re\n",
    "\n",
    "def validar_numero_telefono(numero):\n",
    "    # Definir la expresión regular para validar números de teléfono\n",
    "    patron = r'^\\s*\\(\\d{3}\\)\\s*\\d{3}-\\d{4}\\s*$'\n",
    "\n",
    "    # Realizar la validación\n",
    "    if re.match(patron, numero):\n",
    "        return True\n",
    "    else:\n",
    "        return False\n",
    "\n",
    "# Ejemplos de números de teléfono para validar\n",
    "numeros_ejemplo = [\n",
    "    \"(123) 456-7890\",\n",
    "    \"   (456) 789-0123   \",\n",
    "    \"987-654-3210\",        \n",
    "    \"(555)123-4567\",       \n",
    "    \"(111) 22-3333\",       \n",
    "]\n",
    "\n",
    "# Validar los números de teléfono de ejemplo\n",
    "for numero in numeros_ejemplo:\n",
    "    resultado = validar_numero_telefono(numero)\n",
    "    if resultado:\n",
    "        print(f\"{numero} válido.\")\n",
    "    else:\n",
    "        print(f\"{numero} no válido.\")"
   ]
  },
  {
   "cell_type": "markdown",
   "id": "424e39a2",
   "metadata": {},
   "source": [
    "- - -"
   ]
  }
 ],
 "metadata": {
  "kernelspec": {
   "display_name": "Python 3 (ipykernel)",
   "language": "python",
   "name": "python3"
  },
  "language_info": {
   "codemirror_mode": {
    "name": "ipython",
    "version": 3
   },
   "file_extension": ".py",
   "mimetype": "text/x-python",
   "name": "python",
   "nbconvert_exporter": "python",
   "pygments_lexer": "ipython3",
   "version": "3.9.12"
  }
 },
 "nbformat": 4,
 "nbformat_minor": 5
}
