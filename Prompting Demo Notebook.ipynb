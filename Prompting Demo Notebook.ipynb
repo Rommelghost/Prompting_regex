{
 "cells": [
  {
   "cell_type": "markdown",
   "id": "678646c7",
   "metadata": {},
   "source": [
    "<h1><center><span style=\"color:blue;\">Guía de Prompting para expresiones regulares en ChatGPT</span></center></h1>"
   ]
  },
  {
   "cell_type": "markdown",
   "id": "53af62c1",
   "metadata": {},
   "source": [
    "---\n",
    "## __Elaborado por:__\n",
    "- \n",
    "- \n",
    "- \n",
    "\n",
    "---"
   ]
  },
  {
   "cell_type": "markdown",
   "id": "d7cd6335",
   "metadata": {},
   "source": [
    "## Introducción"
   ]
  },
  {
   "cell_type": "markdown",
   "id": "f601f1f7",
   "metadata": {},
   "source": [
    "Este manual busca que el usuario lleve tareas de Expresiones regulares a través del uso de técnicas de Prompt, específicamente usando el modelo de lenguaje largo CHATGPT\n",
    "\n",
    "Para iniciar, vamos a conocer la respuesta a tres preguntas simples, pero esenciales:"
   ]
  },
  {
   "cell_type": "markdown",
   "id": "7cd26663",
   "metadata": {},
   "source": [
    "**¿Qué son las Expresiones regulares?**"
   ]
  },
  {
   "cell_type": "markdown",
   "id": "da6f8618",
   "metadata": {},
   "source": [
    "**¿Qué son los PROMPTS?**\n",
    "\n",
    "Un prompt es una instrucción, pregunta o un texto que se utiliza para interactuar con sistemas de inteligencia artificial. Podríamos decir que es como un comando, con el que vas a pedirle a este sistema que realice una tarea concreta.\n",
    "Las peticiones las harás a través de los prompts, que son los que utilizas para comunicarte con este sistema de IA.\n",
    "Cuando se lo escribes, la inteligencia artificial analizará lo escrito en el prompt, y generará un contenido acorde a lo que le hayas pedido en este. Por lo tanto, es muy importante que te asegures de incluir todo lo que quieres de la manera que quieras."
   ]
  },
  {
   "cell_type": "markdown",
   "id": "fb31878e",
   "metadata": {},
   "source": [
    "**¿Por qué son importantes los PROMPTS para trabajar con la CHAT GPT?**\n",
    "\n",
    "Al escribir tus indicaciones, ten en cuenta que CHATGPT está tratando de adivinar lo que debería seguir. Por lo tanto, es importante proporcionar instrucciones claras y ejemplos útiles. De esta manera, puedes ayudar a CHATGPT a entender el contexto y lograr la mejor finalización posible.\n",
    "\n",
    "La calidad de el resultado que obtienes de una IA depende de tu prompt, depende de lo que hayas incluido en él. Por lo tanto, son el bien más importante para los usuarios que interactúan con estos automatismos digitales, ya que de ellos depende que el resultado sea acorde con lo que quieren o no."
   ]
  },
  {
   "cell_type": "markdown",
   "id": "e414a5ef",
   "metadata": {},
   "source": [
    "## A. Sintaxis Básica de Expresiones Regulares\n",
    "\n",
    "Antes de sumergirnos en técnicas avanzadas de \"prompting\", asegurémonos de tener una comprensión sólida de las expresiones regulares en sí. Aquí hay algunos conceptos clave:"
   ]
  },
  {
   "cell_type": "markdown",
   "id": "55b096ec",
   "metadata": {},
   "source": [
    "- **Coincidencias básicas:** Representan caracteres específicos.\n",
    "\n",
    "| Regex   | Descripción |\n",
    "|:-------:|:------------|\n",
    "| .       | Coincide con cualquier caracter, excepto con nueva linea |\n",
    "| \\d      | Coincide con cualquier dígito (0-9) |\n",
    "| \\D      | Coincide con cualquier caracter que no sea un dígito (0-9) |\n",
    "| \\w      | Coincide con cualquier caracter de palabra (a-z, A-Z, 0-9, _) |\n",
    "| \\W      | Coincide con cualquier caracter que no es de palabra |\n",
    "| \\s      | Coincide con espacios de cualquier tipo. (espacio, tab, nueva linea) |\n",
    "| \\S      | Coincide con cualquier carácter que no sea un espacio |\n"
   ]
  },
  {
   "cell_type": "code",
   "execution_count": 40,
   "id": "a055d5d7",
   "metadata": {},
   "outputs": [
    {
     "name": "stdout",
     "output_type": "stream",
     "text": [
      "2\n",
      "1\n",
      "El número de coincidencias es: 2\n"
     ]
    }
   ],
   "source": [
    "#Ejemplo en código: Coincidencia dígitos\n",
    "import re\n",
    "\n",
    "texto = \" inserte @21_  texto\" #texto de ejemplo\n",
    "n = 0 \n",
    "for linea in texto:\n",
    "    if re.search(\"\\d\", linea): \n",
    "        print(linea) \n",
    "        n = n+1\n",
    "        \n",
    "print(\"El número de coincidencias es:\",n)"
   ]
  },
  {
   "cell_type": "code",
   "execution_count": 38,
   "id": "019cd485",
   "metadata": {},
   "outputs": [
    {
     "name": "stdout",
     "output_type": "stream",
     "text": [
      "El número de coincidencias es: 5\n"
     ]
    }
   ],
   "source": [
    "#Ejemplo en código: Coincidencia espacios en blanco\n",
    "import re\n",
    "texto = \" inserte 21@_  texto aquí\" #cualquier texto\n",
    "n = 0\n",
    "for linea in texto:\n",
    "    if re.search(\"\\s\", linea): \n",
    "        n = n+1\n",
    "        \n",
    "print(\"El número de coincidencias es:\",n)"
   ]
  },
  {
   "cell_type": "markdown",
   "id": "611308b1",
   "metadata": {},
   "source": [
    "- **Límites:** Especifican la posición en el texto.\n",
    "\n",
    "| Regex | Descripción |\n",
    "|:-----:|:------------|\n",
    "| ^     | Representa el principio de una línea de texto |\n",
    "| $     | Representa el final de una línea de texto |\n",
    "| \\b    | Coincide con el límite de palabra |\n",
    "| \\B    | No coincide con el límite de palabra |"
   ]
  },
  {
   "cell_type": "markdown",
   "id": "e3780458",
   "metadata": {},
   "source": [
    "- **Cuantificadores:** Especifican la cantidad de veces que un elemento puede aparecer.\n",
    "\n",
    "| Regex | Descripción |\n",
    "|:-----:|:------------|\n",
    "| ?     | Coincide con el elemento anterior 0 o 1 vez\n",
    "| *     | Coincide con el elemento anterior 0 o más veces\n",
    "| *?    | Empata con el elemento anterior cero o más veces, pero el menor número de veces que sea posible\n",
    "| +     | Coincide con el elemento anterior una o más veces\n",
    "| *?    | Empata con el elemento anterior cero o más veces, pero el menor número de veces que sea posible.\n",
    "| ??    | Empata con el elemento anterior cero o una vez, pero el menor número de veces que sea posible."
   ]
  },
  {
   "cell_type": "markdown",
   "id": "eec765cc",
   "metadata": {},
   "source": [
    "- __Grupos y conjuntos de caracteres:__ Representan conjuntos de caracteres (por ejemplo, [0-9] para dígitos). Utilizar paréntesis para agrupar y capturar partes de la expresión.\n",
    "\n",
    "| Regex | Descripción |\n",
    "|:-----:|:------------|\n",
    "| ( )    | Grupo\n",
    "|[ ]    | Caracteres dentro de los brackets |\n",
    "|[^  ]   | Caracteres que no están dentro de los brackets |\n",
    "|{ }     | Número exacto |"
   ]
  },
  {
   "cell_type": "markdown",
   "id": "acbe962c",
   "metadata": {},
   "source": [
    "# B. ¡Empecemos a crear consultas efectivas de expresiones regulares!\n",
    "\n",
    "### 1. Elaboremos nuestras expresiones regulares\n",
    "**PASO 1: Importamos el módulo *re***  \n",
    "Hay que asegurarnos de importar el módulo “re” antes de iniciar nuestros scripts en Notebook. El módulo “re”, nos proporcionará las funciones para empezar a trabajar con las expresiones regulares.\n",
    "\n"
   ]
  },
  {
   "cell_type": "code",
   "execution_count": 1,
   "id": "f06de9a2",
   "metadata": {},
   "outputs": [],
   "source": [
    "import re"
   ]
  },
  {
   "cell_type": "markdown",
   "id": "622a82b3",
   "metadata": {},
   "source": [
    "**PASO 2: Creamos nuestra expresión regular**  \n",
    "Hay que definir la expresión regular que queremos usar. Podemos hacerlo en conjunto con los strings a extraer la información:"
   ]
  },
  {
   "cell_type": "code",
   "execution_count": 6,
   "id": "8e8e9cd3",
   "metadata": {},
   "outputs": [],
   "source": [
    "# Por ejemplo, para extraer fechas en formato dd/mm/yyyy\n",
    "regex = r'(\\d{2})/(\\d{2})/(\\d{4})'\n",
    "string = \"La fecha de hoy es 04/12/2023.\""
   ]
  },
  {
   "cell_type": "markdown",
   "id": "876d3b50",
   "metadata": {},
   "source": [
    "**PASO 3: Aplicamos las funciones predefinidas del módulo *re***  \n",
    "Existen una serie de funciones predefinidas que nos ayudarán. Todas estas funciones se encuentran en un módulo llamado “*re*” (El cual fue importado en el Paso 1). En el capítulo A de este manual, hemos conocido con más detalle la aplicación de cada una de estas funciones."
   ]
  },
  {
   "cell_type": "code",
   "execution_count": 7,
   "id": "c6965959",
   "metadata": {},
   "outputs": [],
   "source": [
    "#re.sub(regex,string)\n",
    "#re.split(regex,string)\n",
    "#re.search(regex,string)"
   ]
  },
  {
   "cell_type": "markdown",
   "id": "4f4724a9",
   "metadata": {},
   "source": [
    "**PASO 4: Codificamos el formato de los resultados buscados**    \n",
    "Si nuestra expresión regular tiene grupos de captura (Regex encerrados en paréntesis en la función aplicada), podemos acceder a ellos utilizando el método group() del objeto de coincidencia."
   ]
  },
  {
   "cell_type": "code",
   "execution_count": 10,
   "id": "93b3e56d",
   "metadata": {},
   "outputs": [
    {
     "name": "stdout",
     "output_type": "stream",
     "text": [
      "Día: 04\n",
      "Mes: 12\n",
      "Año: 2023\n"
     ]
    }
   ],
   "source": [
    "resultado = re.search(regex, string)\n",
    "\n",
    "if resultado:\n",
    "    print(\"Día:\", resultado.group(1))\n",
    "    print(\"Mes:\", resultado.group(2))\n",
    "    print(\"Año:\", resultado.group(3))\n",
    "else:\n",
    "    print(\"No hay coincidencias.\")"
   ]
  },
  {
   "cell_type": "markdown",
   "id": "ee7657c0",
   "metadata": {},
   "source": [
    "### 2. ¡Empecemos a crear consultas efectivas de expresiones regulares en CHAT GPT!\n",
    "\n",
    "Poemos usar ChatGPT o cualquier MLL para mejorar nuestras expresiones regulares, obtener ideas sobre cómo manejar casos específicos o incluso generar expresiones regulares más complejas.\n",
    "\n",
    "**Paso 1: Definir un objetivo claro**  \n",
    "Antes de empezar, debemos tener claro el objetivo de nuestra expresión regular.\n",
    "\n",
    "**Paso 2: Iniciamos nuestra conversación con la MLL**  \n",
    "Usa una pregunta específica para obtener información relevante. Por ejemplo:"
   ]
  },
  {
   "cell_type": "code",
   "execution_count": 12,
   "id": "17c1bf04",
   "metadata": {},
   "outputs": [],
   "source": [
    "#\"¿Puedes proporcionar ejemplos de expresiones regulares para extraer direcciones de correo electrónico en un texto?\""
   ]
  },
  {
   "cell_type": "markdown",
   "id": "f7560c67",
   "metadata": {},
   "source": [
    "**Paso 3: Analizar la Respuesta de ChatGPT**  \n",
    "ChatGPT proporcionará ejemplos y explicaciones que podrían ayudarte a entender cómo construir tu expresión regular. Presta atención a los patrones sugeridos y cómo manejar diferentes casos.\n",
    "\n",
    "**Paso 4: Construir tu Expresión Regular**  \n",
    "Basándote en las sugerencias de ChatGPT, comienza a construir tu expresión regular. Asegúrate de tener en cuenta casos especiales y bordes.\n",
    "\n",
    "**Paso 5: Probar tu Expresión Regular**  \n",
    "Usa un entorno de desarrollo de Python o herramientas en línea para probar tu expresión regular con ejemplos de texto. Ajusta según sea necesario.\n",
    "\n",
    "**Paso 6: Implementar en tu Aplicación**  \n",
    "Integra tu expresión regular en tu aplicación o script de Python.\n",
    "\n",
    "**Paso 7: Refinar y Optimizar**  \n",
    "Si encuentras casos que tu expresión regular no maneja correctamente, refínala. Puedes repetir los pasos 3-6 para mejorar y optimizar tu expresión regular.\n",
    "\n",
    "**Paso 8: Documentar tu Expresión Regular**  \n",
    "Asegúrate de documentar tu expresión regular para que otros desarrolladores puedan entender su propósito y cómo usarla.\n",
    "\n",
    "**Paso 9: Mantenimiento Continuo**  \n",
    "Las expresiones regulares pueden necesitar ajustes con el tiempo. A medida que evoluciona tu aplicación o cambian los requisitos, revisa y actualiza según sea necesario.\n",
    "\n",
    "### <center>¡Recuerda que mientras más específica sea tu pregunta a ChatGPT, mejores respuestas obtendrás!"
   ]
  },
  {
   "cell_type": "markdown",
   "id": "b9121ed3",
   "metadata": {},
   "source": [
    "## Ejemplos de Prompts para utilizar Expresiones Regulares (Regex)"
   ]
  },
  {
   "cell_type": "markdown",
   "id": "8d28a85f",
   "metadata": {},
   "source": [
    "### Ubicamos correos educativos"
   ]
  },
  {
   "cell_type": "markdown",
   "id": "3f647254",
   "metadata": {},
   "source": [
    "\"Proporcióname un código en Python que utilice expresiones regulares para encontrar y mostrar todas las direcciones de correo electrónico que terminen en '.edu' en el archivo 'mbox-short.txt' disponible en el enlace 'http://www.py4inf.com/code/mbox-short.txt', utilizando una expresión regular sin importar mayusculas o minusculas.\""
   ]
  },
  {
   "cell_type": "code",
   "execution_count": 2,
   "id": "32737119",
   "metadata": {},
   "outputs": [
    {
     "name": "stdout",
     "output_type": "stream",
     "text": [
      "200801051412.m05ECIaH010327@nakamura.uits.iupui.edu\n",
      "louis@media.berkeley.edu\n",
      "200801042308.m04N8v6O008125@nakamura.uits.iupui.edu\n",
      "louis@media.berkeley.edu\n",
      "louis@media.berkeley.edu\n",
      "louis@media.berkeley.edu\n",
      "zqian@umich.edu\n",
      "200801042109.m04L92hb007923@nakamura.uits.iupui.edu\n",
      "zqian@umich.edu\n",
      "zqian@umich.edu\n",
      "zqian@umich.edu\n",
      "rjlowe@iupui.edu\n",
      "200801042044.m04Kiem3007881@nakamura.uits.iupui.edu\n",
      "rjlowe@iupui.edu\n",
      "rjlowe@iupui.edu\n",
      "rjlowe@iupui.edu\n",
      "zqian@umich.edu\n",
      "200801042001.m04K1cO0007738@nakamura.uits.iupui.edu\n",
      "zqian@umich.edu\n",
      "zqian@umich.edu\n",
      "zqian@umich.edu\n",
      "zqian@umich.edu\n",
      "rjlowe@iupui.edu\n",
      "200801041948.m04JmdwO007705@nakamura.uits.iupui.edu\n",
      "rjlowe@iupui.edu\n",
      "rjlowe@iupui.edu\n",
      "rjlowe@iupui.edu\n",
      "cwen@iupui.edu\n",
      "200801041635.m04GZQGZ007313@nakamura.uits.iupui.edu\n",
      "cwen@iupui.edu\n",
      "cwen@iupui.edu\n",
      "cwen@iupui.edu\n",
      "hu2@iupui.edu\n",
      "cwen@iupui.edu\n",
      "200801041633.m04GX6eG007292@nakamura.uits.iupui.edu\n",
      "cwen@iupui.edu\n",
      "cwen@iupui.edu\n",
      "cwen@iupui.edu\n",
      "hu2@iupui.edu\n",
      "gsilver@umich.edu\n",
      "200801041611.m04GB1Lb007221@nakamura.uits.iupui.edu\n",
      "gsilver@umich.edu\n",
      "gsilver@umich.edu\n",
      "gsilver@umich.edu\n",
      "gsilver@umich.edu\n",
      "200801041610.m04GA5KP007209@nakamura.uits.iupui.edu\n",
      "gsilver@umich.edu\n",
      "gsilver@umich.edu\n",
      "gsilver@umich.edu\n",
      "zqian@umich.edu\n",
      "200801041609.m04G9EuX007197@nakamura.uits.iupui.edu\n",
      "zqian@umich.edu\n",
      "zqian@umich.edu\n",
      "zqian@umich.edu\n",
      "gsilver@umich.edu\n",
      "200801041608.m04G8d7w007184@nakamura.uits.iupui.edu\n",
      "gsilver@umich.edu\n",
      "gsilver@umich.edu\n",
      "gsilver@umich.edu\n",
      "wagnermr@iupui.edu\n",
      "200801041537.m04Fb6Ci007092@nakamura.uits.iupui.edu\n",
      "wagnermr@iupui.edu\n",
      "wagnermr@iupui.edu\n",
      "wagnermr@iupui.edu\n",
      "zqian@umich.edu\n",
      "200801041515.m04FFv42007050@nakamura.uits.iupui.edu\n",
      "zqian@umich.edu\n",
      "zqian@umich.edu\n",
      "zqian@umich.edu\n",
      "200801041502.m04F21Jo007031@nakamura.uits.iupui.edu\n",
      "200801041403.m04E3psW006926@nakamura.uits.iupui.edu\n",
      "200801041200.m04C0gfK006793@nakamura.uits.iupui.edu\n",
      "200801041106.m04B6lK3006677@nakamura.uits.iupui.edu\n",
      "200801040947.m049lUxo006517@nakamura.uits.iupui.edu\n",
      "josrodri@iupui.edu\n",
      "200801040932.m049W2i5006493@nakamura.uits.iupui.edu\n",
      "josrodri@iupui.edu\n",
      "200801040905.m0495rWB006420@nakamura.uits.iupui.edu\n",
      "louis@media.berkeley.edu\n",
      "200801040023.m040NpCc005473@nakamura.uits.iupui.edu\n",
      "louis@media.berkeley.edu\n",
      "louis@media.berkeley.edu\n",
      "louis@media.berkeley.edu\n",
      "louis@media.berkeley.edu\n",
      "200801032216.m03MGhDa005292@nakamura.uits.iupui.edu\n",
      "louis@media.berkeley.edu\n",
      "louis@media.berkeley.edu\n",
      "louis@media.berkeley.edu\n",
      "ray@media.berkeley.edu\n",
      "200801032205.m03M5Ea7005273@nakamura.uits.iupui.edu\n",
      "ray@media.berkeley.edu\n",
      "ray@media.berkeley.edu\n",
      "ray@media.berkeley.edu\n",
      "cwen@iupui.edu\n",
      "200801032133.m03LX3gG005191@nakamura.uits.iupui.edu\n",
      "cwen@iupui.edu\n",
      "cwen@iupui.edu\n",
      "cwen@iupui.edu\n",
      "cwen@iupui.edu\n",
      "200801032127.m03LRUqH005177@nakamura.uits.iupui.edu\n",
      "cwen@iupui.edu\n",
      "cwen@iupui.edu\n",
      "cwen@iupui.edu\n",
      "wagnermr@iupui.edu\n",
      "cwen@iupui.edu\n",
      "200801032122.m03LMFo4005148@nakamura.uits.iupui.edu\n",
      "cwen@iupui.edu\n",
      "cwen@iupui.edu\n",
      "cwen@iupui.edu\n",
      "wagnermr@iupui.edu\n"
     ]
    }
   ],
   "source": [
    "import re\n",
    "import urllib.request\n",
    "\n",
    "# Descargar el contenido del archivo mbox-short.txt desde el enlace\n",
    "url = \"http://www.py4inf.com/code/mbox-short.txt\"\n",
    "response = urllib.request.urlopen(url)\n",
    "data = response.read().decode(\"utf-8\")\n",
    "\n",
    "# Utilizar una expresión regular insensible a mayúsculas y minúsculas para encontrar direcciones de correo electrónico que terminen en \".edu\"\n",
    "pattern = r'\\b[A-Za-z0-9._%+-]+@[A-Za-z0-9.-]+\\.[Ee][Dd][Uu]\\b'\n",
    "matches = re.findall(pattern, data, flags=re.IGNORECASE)\n",
    "\n",
    "# Imprimir las direcciones encontradas\n",
    "for match in matches:\n",
    "    print(match)"
   ]
  },
  {
   "cell_type": "code",
   "execution_count": null,
   "id": "288604e7",
   "metadata": {},
   "outputs": [],
   "source": []
  }
 ],
 "metadata": {
  "kernelspec": {
   "display_name": "Python 3 (ipykernel)",
   "language": "python",
   "name": "python3"
  },
  "language_info": {
   "codemirror_mode": {
    "name": "ipython",
    "version": 3
   },
   "file_extension": ".py",
   "mimetype": "text/x-python",
   "name": "python",
   "nbconvert_exporter": "python",
   "pygments_lexer": "ipython3",
   "version": "3.9.12"
  }
 },
 "nbformat": 4,
 "nbformat_minor": 5
}
