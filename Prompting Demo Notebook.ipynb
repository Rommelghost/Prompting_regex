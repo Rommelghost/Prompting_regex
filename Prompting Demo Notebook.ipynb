{
 "cells": [
  {
   "cell_type": "markdown",
   "id": "678646c7",
   "metadata": {},
   "source": [
    "<h1><center><span style=\"color:blue;\">Guía de Prompting para expresiones regulares en ChatGPT</span></center></h1>"
   ]
  },
  {
   "cell_type": "markdown",
   "id": "53af62c1",
   "metadata": {},
   "source": [
    "---\n",
    "## __Elaborado por:__\n",
    "- \n",
    "- \n",
    "- \n",
    "\n",
    "---"
   ]
  },
  {
   "cell_type": "markdown",
   "id": "d7cd6335",
   "metadata": {},
   "source": [
    "## Introducción"
   ]
  },
  {
   "cell_type": "markdown",
   "id": "e414a5ef",
   "metadata": {},
   "source": [
    "## Paso 1: Sintaxis Básica de Expresiones Regulares\n",
    "\n",
    "Antes de sumergirnos en técnicas avanzadas de \"prompting\", asegurémonos de tener una comprensión sólida de las expresiones regulares en sí. Aquí hay algunos conceptos clave:"
   ]
  },
  {
   "cell_type": "markdown",
   "id": "55b096ec",
   "metadata": {},
   "source": [
    "- **Coincidencias básicas:** Representan caracteres específicos.\n",
    "\n",
    "| Regex   | Descripción |\n",
    "|:-------:|:------------|\n",
    "| .       | Coincide con cualquier caracter, excepto con nueva linea |\n",
    "| \\d      | Coincide con cualquier dígito (0-9) |\n",
    "| \\D      | Coincide con cualquier caracter que no sea un dígito (0-9) |\n",
    "| \\w      | Coincide con cualquier caracter de palabra (a-z, A-Z, 0-9, _) |\n",
    "| \\W      | Coincide con cualquier caracter que no es de palabra |\n",
    "| \\s      | Coincide con espacios de cualquier tipo. (espacio, tab, nueva linea) |\n",
    "| \\S      | Coincide con cualquier carácter que no sea un espacio |\n"
   ]
  },
  {
   "cell_type": "code",
   "execution_count": 40,
   "id": "a055d5d7",
   "metadata": {},
   "outputs": [
    {
     "name": "stdout",
     "output_type": "stream",
     "text": [
      "2\n",
      "1\n",
      "El número de coincidencias es: 2\n"
     ]
    }
   ],
   "source": [
    "#Ejemplo en código: Coincidencia dígitos\n",
    "import re\n",
    "\n",
    "texto = \" inserte @21_  texto\" #texto de ejemplo\n",
    "n = 0 \n",
    "for linea in texto:\n",
    "    if re.search(\"\\d\", linea): \n",
    "        print(linea) \n",
    "        n = n+1\n",
    "        \n",
    "print(\"El número de coincidencias es:\",n)"
   ]
  },
  {
   "cell_type": "code",
   "execution_count": 38,
   "id": "019cd485",
   "metadata": {},
   "outputs": [
    {
     "name": "stdout",
     "output_type": "stream",
     "text": [
      "El número de coincidencias es: 5\n"
     ]
    }
   ],
   "source": [
    "#Ejemplo en código: Coincidencia espacios en blanco\n",
    "import re\n",
    "texto = \" inserte 21@_  texto aquí\" #cualquier texto\n",
    "n = 0\n",
    "for linea in texto:\n",
    "    if re.search(\"\\s\", linea): \n",
    "        n = n+1\n",
    "        \n",
    "print(\"El número de coincidencias es:\",n)"
   ]
  },
  {
   "cell_type": "code",
   "execution_count": null,
   "id": "85f29b99",
   "metadata": {},
   "outputs": [],
   "source": []
  }
 ],
 "metadata": {
  "kernelspec": {
   "display_name": "Python 3 (ipykernel)",
   "language": "python",
   "name": "python3"
  },
  "language_info": {
   "codemirror_mode": {
    "name": "ipython",
    "version": 3
   },
   "file_extension": ".py",
   "mimetype": "text/x-python",
   "name": "python",
   "nbconvert_exporter": "python",
   "pygments_lexer": "ipython3",
   "version": "3.9.12"
  }
 },
 "nbformat": 4,
 "nbformat_minor": 5
}
