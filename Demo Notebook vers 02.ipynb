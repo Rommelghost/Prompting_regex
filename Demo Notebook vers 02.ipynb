{
 "cells": [
  {
   "cell_type": "markdown",
   "id": "eb25add1",
   "metadata": {},
   "source": [
    "# Introducción"
   ]
  },
  {
   "cell_type": "markdown",
   "id": "afe40cc7",
   "metadata": {},
   "source": [
    "Este manual busca que el usuario lleve tareas de Expresiones regulares a través del uso de técnicas de Prompt, específicamente usando CHATGPT\n",
    "\n",
    "\n",
    "Para iniciar, vamos a conocer la respuesta a dos preguntas simples, pero esenciales:"
   ]
  },
  {
   "cell_type": "markdown",
   "id": "2072a352",
   "metadata": {},
   "source": [
    "**¿Ques son las Expresiones regulares?**\n"
   ]
  },
  {
   "cell_type": "code",
   "execution_count": null,
   "id": "bf37e326",
   "metadata": {},
   "outputs": [],
   "source": [
    "que son las mll"
   ]
  },
  {
   "cell_type": "markdown",
   "id": "4a1c7444",
   "metadata": {},
   "source": [
    "**¿Ques son los PROMPTS?**\n",
    "\n",
    "Un prompt es una instrucción, pregunta o un texto que se utiliza para interactuar con sistemas de inteligencia artificial. Podríamos decir que es como un comando, con el que vas a pedirle a este sistema que realice una tarea concreta.\n",
    "Las peticiones las harás a través de los prompts, que son los que utilizas para comunicarte con este sistema de IA.\n",
    "Cuando se lo escribes, la inteligencia artificial analizará lo escrito en el prompt, y generará un contenido acorde a lo que le hayas pedido en este. Por lo tanto, es muy importante que te asegures de incluir todo lo que quieres de la manera que quieras."
   ]
  },
  {
   "cell_type": "markdown",
   "id": "6d477385",
   "metadata": {},
   "source": [
    "**¿Por qué son importantes los PROMPTS para trabajar con la CHAT GPT?**\n",
    "\n",
    "Al escribir tus indicaciones, ten en cuenta que CHATGPT está tratando de adivinar lo que debería seguir. Por lo tanto, es importante proporcionar instrucciones claras y ejemplos útiles. De esta manera, puedes ayudar a CHATGPT a entender el contexto y lograr la mejor finalización posible.\n",
    "\n",
    "La calidad de el resultado que obtienes de una IA depende de tu prompt, depende de lo que hayas incluido en él. Por lo tanto, son el bien más importante para los usuarios que interactúan con estos automatismos digitales, ya que de ellos depende que el resultado sea acorde con lo que quieren o no."
   ]
  },
  {
   "cell_type": "markdown",
   "id": "cd8e5343",
   "metadata": {},
   "source": [
    "# B. Crear consultas efectivas de expresiones regulares:"
   ]
  },
  {
   "cell_type": "markdown",
   "id": "950d39f3",
   "metadata": {},
   "source": [
    "Para obtener los resultados deseados al \"prompting\" con expresiones regulares, es crucial diseñar patrones específicos. Aquí hay algunas estrategias usando Chat GPT:"
   ]
  },
  {
   "cell_type": "markdown",
   "id": "83dc2de7",
   "metadata": {},
   "source": [
    "**Especificar Contexto:** Incluye información contextual en tu \"prompt\" para guiar al modelo. Por ejemplo, \"Encuentra todos los correos electrónicos en el siguiente texto:\"."
   ]
  },
  {
   "cell_type": "markdown",
   "id": "a1f70423",
   "metadata": {},
   "source": [
    "**Considerar casos especiales:** Piensa en casos extremos y límites para mejorar la robustez del patrón. Asegúrate de que tu regex maneje adecuadamente estos casos."
   ]
  },
  {
   "cell_type": "markdown",
   "id": "9053a67b",
   "metadata": {},
   "source": [
    "**PASO 1: Empieza Simple:**\n",
    "\n",
    "Si eres nuevo en las expresiones regulares, comienza con patrones sencillos y luego avanza hacia los más complejos a medida que adquieras experiencia.\n",
    "\n",
    "**PASO 2: Prueba y Ajusta:**\n",
    "\n",
    "La validación de datos es iterativa. Prueba tus expresiones regulares en datos de ejemplo y ajusta según sea necesario.\n",
    "\n",
    "**PASO 3: Documenta tus Expresiones:**\n",
    "\n",
    "Mantén un registro de tus expresiones regulares y sus usos. Esto te ahorrará tiempo en el futuro y te ayudará a compartir conocimientos.\n",
    "\n",
    "**PASO 4: Aprovecha Recursos en Línea:**\n",
    "\n",
    "Hay muchas herramientas y recursos en línea que te permiten crear y verificar expresiones regulares antes de implementarlas.\n",
    "\n",
    "afregar link regex"
   ]
  },
  {
   "cell_type": "markdown",
   "id": "cb95ff04",
   "metadata": {},
   "source": [
    "# B. ¡Empecemos a crear consultas efectivas de expresiones regulares!\n",
    "\n",
    "### 1. Elaboremos nuestras expresiones regulares\n",
    "**PASO 1: Importar el módulo *re***  \n",
    "Hay que asegurarnos de importar el módulo “re” antes de iniciar nuestros scripts en Notebook. El módulo “re”, nos proporcionará las funciones para empezar a trabajar con las expresiones regulares.\n",
    "\n",
    "**PASO 2: Crear una expresión regular**  \n",
    "Define la expresión regular que deseas usar. Puedes hacer esto directamente como una cadena de texto en Python.\n",
    "\n",
    "**PASO 3: Usar la función re.search**  \n",
    "La función re.search busca la expresión regular en una cadena de texto y devuelve el primer resultado que encuentra.\n",
    "\n",
    "**PASO 4: Utilizar grupos de captura**  \n",
    "Si tu expresión regular tiene grupos de captura (paréntesis), puedes acceder a ellos utilizando el método group() del objeto de coincidencia.\n",
    "\n",
    "### 2. ¡Empecemos a crear consultas efectivas de expresiones regulares en CHAT GPT!\n",
    "**PASO 1: Utilizar el modelo ChatGPT para mejorar las expresiones regulares**  \n",
    "Puedes usar ChatGPT para mejorar tus expresiones regulares, obtener ideas sobre cómo manejar casos específicos o incluso generar expresiones regulares más complejas.\n",
    "\n",
    "**Paso 1: Definir el Objetivo**  \n",
    "Antes de comenzar, ten claro el objetivo de tu expresión regular. ¿Qué tipo de patrón estás buscando en el texto?\n",
    "\n",
    "**Paso 2: Iniciar una Conversación con ChatGPT**  \n",
    "Usa una pregunta específica para obtener información relevante. Por ejemplo:\n",
    "\n",
    "**Paso 3: Analizar la Respuesta de ChatGPT**  \n",
    "ChatGPT proporcionará ejemplos y explicaciones que podrían ayudarte a entender cómo construir tu expresión regular. Presta atención a los patrones sugeridos y cómo manejar diferentes casos.\n",
    "\n",
    "**Paso 4: Construir tu Expresión Regular**  \n",
    "Basándote en las sugerencias de ChatGPT, comienza a construir tu expresión regular. Asegúrate de tener en cuenta casos especiales y bordes.\n",
    "\n",
    "**Paso 5: Probar tu Expresión Regular**  \n",
    "Usa un entorno de desarrollo de Python o herramientas en línea para probar tu expresión regular con ejemplos de texto. Ajusta según sea necesario.\n",
    "\n",
    "**Paso 6: Implementar en tu Aplicación**  \n",
    "Integra tu expresión regular en tu aplicación o script de Python.\n",
    "\n",
    "**Paso 7: Refinar y Optimizar**  \n",
    "Si encuentras casos que tu expresión regular no maneja correctamente, refínala. Puedes repetir los pasos 3-6 para mejorar y optimizar tu expresión regular.\n",
    "\n",
    "**Paso 8: Documentar tu Expresión Regular**  \n",
    "Asegúrate de documentar tu expresión regular para que otros desarrolladores puedan entender su propósito y cómo usarla.\n",
    "\n",
    "**Paso 9: Mantenimiento Continuo**  \n",
    "Las expresiones regulares pueden necesitar ajustes con el tiempo. A medida que evoluciona tu aplicación o cambian los requisitos, revisa y actualiza según sea necesario.\n",
    "\n",
    "### <center>¡Recuerda que mientras más específica sea tu pregunta a ChatGPT, mejores respuestas obtendrás!\n"
   ]
  },
  {
   "cell_type": "code",
   "execution_count": null,
   "id": "ad330f31",
   "metadata": {},
   "outputs": [],
   "source": []
  }
 ],
 "metadata": {
  "kernelspec": {
   "display_name": "Python 3 (ipykernel)",
   "language": "python",
   "name": "python3"
  },
  "language_info": {
   "codemirror_mode": {
    "name": "ipython",
    "version": 3
   },
   "file_extension": ".py",
   "mimetype": "text/x-python",
   "name": "python",
   "nbconvert_exporter": "python",
   "pygments_lexer": "ipython3",
   "version": "3.9.12"
  }
 },
 "nbformat": 4,
 "nbformat_minor": 5
}
