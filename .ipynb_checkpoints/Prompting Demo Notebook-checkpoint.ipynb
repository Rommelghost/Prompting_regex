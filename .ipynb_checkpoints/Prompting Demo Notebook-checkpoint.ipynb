{
 "cells": [
  {
   "attachments": {},
   "cell_type": "markdown",
   "id": "678646c7",
   "metadata": {},
   "source": [
    "# Paso 1: Comprende la Sintaxis Básica de Regex"
   ]
  },
  {
   "cell_type": "markdown",
   "id": "e414a5ef",
   "metadata": {},
   "source": [
    "Antes de sumergirnos en técnicas avanzadas de \"prompting\", asegurémonos de tener una comprensión sólida de las expresiones regulares en sí. Aquí hay algunos conceptos clave:"
   ]
  },
  {
   "cell_type": "markdown",
   "id": "55b096ec",
   "metadata": {},
   "source": [
    "**Literales:** Representan caracteres específicos."
   ]
  },
  {
   "cell_type": "code",
   "execution_count": 1,
   "id": "dfc6b8fe",
   "metadata": {},
   "outputs": [
    {
     "name": "stdout",
     "output_type": "stream",
     "text": [
      "literal\n"
     ]
    }
   ],
   "source": [
    "import re\n",
    "\n",
    "# Definir la cadena de texto y el patrón de búsqueda\n",
    "cadena_de_texto = \"La coincidencia literal es el tipo más básico de expresión regular.\"\n",
    "patron_de_busqueda = \"literal\"\n",
    "\n",
    "# Buscar la coincidencia literal en la cadena de texto\n",
    "coincidencia = re.search(patron_de_busqueda, cadena_de_texto)\n",
    "\n",
    "# Imprimir la coincidencia\n",
    "print(coincidencia.group())"
   ]
  },
  {
   "cell_type": "code",
   "execution_count": null,
   "id": "a055d5d7",
   "metadata": {},
   "outputs": [],
   "source": []
  }
 ],
 "metadata": {
  "kernelspec": {
   "display_name": "Python 3 (ipykernel)",
   "language": "python",
   "name": "python3"
  },
  "language_info": {
   "codemirror_mode": {
    "name": "ipython",
    "version": 3
   },
   "file_extension": ".py",
   "mimetype": "text/x-python",
   "name": "python",
   "nbconvert_exporter": "python",
   "pygments_lexer": "ipython3",
   "version": "3.9.12"
  }
 },
 "nbformat": 4,
 "nbformat_minor": 5
}
