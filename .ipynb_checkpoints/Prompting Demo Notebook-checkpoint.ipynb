{
 "cells": [
  {
   "cell_type": "markdown",
   "id": "678646c7",
   "metadata": {},
   "source": [
    "<h1><center><span style=\"color:blue;\">Guía de Prompting para expresiones regulares en ChatGPT</span></center></h1>"
   ]
  },
  {
   "cell_type": "markdown",
   "id": "53af62c1",
   "metadata": {},
   "source": [
    "---\n",
    "## __Elaborado por:__\n",
    "- \n",
    "- \n",
    "- \n",
    "\n",
    "---"
   ]
  },
  {
   "cell_type": "markdown",
   "id": "d7cd6335",
   "metadata": {},
   "source": [
    "## Introducción"
   ]
  },
  {
   "cell_type": "markdown",
   "id": "f601f1f7",
   "metadata": {},
   "source": [
    "Este manual busca que el usuario lleve tareas de Expresiones regulares a través del uso de técnicas de Prompt, específicamente usando el modelo de lenguaje largo CHATGPT\n",
    "\n",
    "Para iniciar, vamos a conocer la respuesta a tres preguntas simples, pero esenciales:"
   ]
  },
  {
   "cell_type": "markdown",
   "id": "7cd26663",
   "metadata": {},
   "source": [
    "**¿Qué son las Expresiones regulares?**"
   ]
  },
  {
   "cell_type": "markdown",
   "id": "da6f8618",
   "metadata": {},
   "source": [
    "**¿Qué son los PROMPTS?**\n",
    "\n",
    "Un prompt es una instrucción, pregunta o un texto que se utiliza para interactuar con sistemas de inteligencia artificial. Podríamos decir que es como un comando, con el que vas a pedirle a este sistema que realice una tarea concreta.\n",
    "Las peticiones las harás a través de los prompts, que son los que utilizas para comunicarte con este sistema de IA.\n",
    "Cuando se lo escribes, la inteligencia artificial analizará lo escrito en el prompt, y generará un contenido acorde a lo que le hayas pedido en este. Por lo tanto, es muy importante que te asegures de incluir todo lo que quieres de la manera que quieras."
   ]
  },
  {
   "cell_type": "markdown",
   "id": "fb31878e",
   "metadata": {},
   "source": [
    "**¿Por qué son importantes los PROMPTS para trabajar con la CHAT GPT?**\n",
    "\n",
    "Al escribir tus indicaciones, ten en cuenta que CHATGPT está tratando de adivinar lo que debería seguir. Por lo tanto, es importante proporcionar instrucciones claras y ejemplos útiles. De esta manera, puedes ayudar a CHATGPT a entender el contexto y lograr la mejor finalización posible.\n",
    "\n",
    "La calidad de el resultado que obtienes de una IA depende de tu prompt, depende de lo que hayas incluido en él. Por lo tanto, son el bien más importante para los usuarios que interactúan con estos automatismos digitales, ya que de ellos depende que el resultado sea acorde con lo que quieren o no."
   ]
  },
  {
   "cell_type": "markdown",
   "id": "e414a5ef",
   "metadata": {},
   "source": [
    "## A. Sintaxis Básica de Expresiones Regulares\n",
    "\n",
    "Antes de sumergirnos en técnicas avanzadas de \"prompting\", asegurémonos de tener una comprensión sólida de las expresiones regulares en sí. Aquí hay algunos conceptos clave:"
   ]
  },
  {
   "cell_type": "markdown",
   "id": "55b096ec",
   "metadata": {},
   "source": [
    "- **Coincidencias básicas:** Representan caracteres específicos.\n",
    "\n",
    "| Regex   | Descripción |\n",
    "|:-------:|:------------|\n",
    "| .       | Coincide con cualquier caracter, excepto con nueva linea |\n",
    "| \\d      | Coincide con cualquier dígito (0-9) |\n",
    "| \\D      | Coincide con cualquier caracter que no sea un dígito (0-9) |\n",
    "| \\w      | Coincide con cualquier caracter de palabra (a-z, A-Z, 0-9, _) |\n",
    "| \\W      | Coincide con cualquier caracter que no es de palabra |\n",
    "| \\s      | Coincide con espacios de cualquier tipo. (espacio, tab, nueva linea) |\n",
    "| \\S      | Coincide con cualquier carácter que no sea un espacio |\n"
   ]
  },
  {
   "cell_type": "code",
   "execution_count": 40,
   "id": "a055d5d7",
   "metadata": {},
   "outputs": [
    {
     "name": "stdout",
     "output_type": "stream",
     "text": [
      "2\n",
      "1\n",
      "El número de coincidencias es: 2\n"
     ]
    }
   ],
   "source": [
    "#Ejemplo en código: Coincidencia dígitos\n",
    "import re\n",
    "\n",
    "texto = \" inserte @21_  texto\" #texto de ejemplo\n",
    "n = 0 \n",
    "for linea in texto:\n",
    "    if re.search(\"\\d\", linea): \n",
    "        print(linea) \n",
    "        n = n+1\n",
    "        \n",
    "print(\"El número de coincidencias es:\",n)"
   ]
  },
  {
   "cell_type": "code",
   "execution_count": 38,
   "id": "019cd485",
   "metadata": {},
   "outputs": [
    {
     "name": "stdout",
     "output_type": "stream",
     "text": [
      "El número de coincidencias es: 5\n"
     ]
    }
   ],
   "source": [
    "#Ejemplo en código: Coincidencia espacios en blanco\n",
    "import re\n",
    "texto = \" inserte 21@_  texto aquí\" #cualquier texto\n",
    "n = 0\n",
    "for linea in texto:\n",
    "    if re.search(\"\\s\", linea): \n",
    "        n = n+1\n",
    "        \n",
    "print(\"El número de coincidencias es:\",n)"
   ]
  },
  {
   "cell_type": "markdown",
   "id": "611308b1",
   "metadata": {},
   "source": [
    "- **Límites:** Especifican la posición en el texto.\n",
    "\n",
    "| Regex | Descripción |\n",
    "|:-----:|:------------|\n",
    "| ^     | Representa el principio de una línea de texto |\n",
    "| $     | Representa el final de una línea de texto |\n",
    "| \\b    | Coincide con el límite de palabra |\n",
    "| \\B    | No coincide con el límite de palabra |"
   ]
  },
  {
   "cell_type": "markdown",
   "id": "e3780458",
   "metadata": {},
   "source": [
    "- **Cuantificadores:** Especifican la cantidad de veces que un elemento puede aparecer.\n",
    "\n",
    "| Regex | Descripción |\n",
    "|:-----:|:------------|\n",
    "| ?     | Coincide con el elemento anterior 0 o 1 vez\n",
    "| *     | Coincide con el elemento anterior 0 o más veces\n",
    "| *?    | Empata con el elemento anterior cero o más veces, pero el menor número de veces que sea posible\n",
    "| +     | Coincide con el elemento anterior una o más veces\n",
    "| *?    | Empata con el elemento anterior cero o más veces, pero el menor número de veces que sea posible.\n",
    "| ??    | Empata con el elemento anterior cero o una vez, pero el menor número de veces que sea posible."
   ]
  },
  {
   "cell_type": "markdown",
   "id": "eec765cc",
   "metadata": {},
   "source": [
    "- __Grupos y conjuntos de caracteres:__ Representan conjuntos de caracteres (por ejemplo, [0-9] para dígitos). Utilizar paréntesis para agrupar y capturar partes de la expresión.\n",
    "\n",
    "| Regex | Descripción |\n",
    "|:-----:|:------------|\n",
    "| ( )    | Grupo\n",
    "|[ ]    | Caracteres dentro de los brackets |\n",
    "|[^  ]   | Caracteres que no están dentro de los brackets |\n",
    "|{ }     | Número exacto |"
   ]
  },
  {
   "cell_type": "code",
   "execution_count": null,
   "id": "05d4008f",
   "metadata": {},
   "outputs": [],
   "source": []
  }
 ],
 "metadata": {
  "kernelspec": {
   "display_name": "Python 3 (ipykernel)",
   "language": "python",
   "name": "python3"
  },
  "language_info": {
   "codemirror_mode": {
    "name": "ipython",
    "version": 3
   },
   "file_extension": ".py",
   "mimetype": "text/x-python",
   "name": "python",
   "nbconvert_exporter": "python",
   "pygments_lexer": "ipython3",
   "version": "3.9.12"
  }
 },
 "nbformat": 4,
 "nbformat_minor": 5
}
