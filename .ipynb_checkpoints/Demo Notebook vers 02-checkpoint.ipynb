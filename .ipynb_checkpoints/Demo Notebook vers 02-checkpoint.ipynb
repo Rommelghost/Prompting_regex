{
 "cells": [
  {
   "cell_type": "markdown",
   "id": "f53a532b",
   "metadata": {},
   "source": [
    "# Introducción"
   ]
  },
  {
   "cell_type": "markdown",
   "id": "58077191",
   "metadata": {},
   "source": [
    "Este manual busca que el usuario lleve tareas de Expresiones regulares a través del uso de técnicas de Prompt, específicamente usando CHATGPT\n",
    "\n",
    "\n",
    "Para iniciar, vamos a conocer la respuesta a dos preguntas simples, pero esenciales:"
   ]
  },
  {
   "cell_type": "markdown",
   "id": "9a622034",
   "metadata": {},
   "source": [
    "**¿Ques son las Expresiones regulares?**\n"
   ]
  },
  {
   "cell_type": "code",
   "execution_count": null,
   "id": "acb04c2c",
   "metadata": {},
   "outputs": [],
   "source": [
    "que son las mll"
   ]
  },
  {
   "cell_type": "markdown",
   "id": "1cb031d2",
   "metadata": {},
   "source": [
    "**¿Ques son los PROMPTS?**\n",
    "\n",
    "Un prompt es una instrucción, pregunta o un texto que se utiliza para interactuar con sistemas de inteligencia artificial. Podríamos decir que es como un comando, con el que vas a pedirle a este sistema que realice una tarea concreta.\n",
    "Las peticiones las harás a través de los prompts, que son los que utilizas para comunicarte con este sistema de IA.\n",
    "Cuando se lo escribes, la inteligencia artificial analizará lo escrito en el prompt, y generará un contenido acorde a lo que le hayas pedido en este. Por lo tanto, es muy importante que te asegures de incluir todo lo que quieres de la manera que quieras."
   ]
  },
  {
   "cell_type": "markdown",
   "id": "cd241468",
   "metadata": {},
   "source": [
    "**¿Por qué son importantes los PROMPTS para trabajar con la CHAT GPT?**\n",
    "\n",
    "Al escribir tus indicaciones, ten en cuenta que CHATGPT está tratando de adivinar lo que debería seguir. Por lo tanto, es importante proporcionar instrucciones claras y ejemplos útiles. De esta manera, puedes ayudar a CHATGPT a entender el contexto y lograr la mejor finalización posible.\n",
    "\n",
    "La calidad de el resultado que obtienes de una IA depende de tu prompt, depende de lo que hayas incluido en él. Por lo tanto, son el bien más importante para los usuarios que interactúan con estos automatismos digitales, ya que de ellos depende que el resultado sea acorde con lo que quieren o no."
   ]
  },
  {
   "cell_type": "markdown",
   "id": "cd8e5343",
   "metadata": {},
   "source": [
    "# B. Crear consultas efectivas de expresiones regulares:"
   ]
  },
  {
   "cell_type": "markdown",
   "id": "950d39f3",
   "metadata": {},
   "source": [
    "Para obtener los resultados deseados al \"prompting\" con expresiones regulares, es crucial diseñar patrones específicos. Aquí hay algunas estrategias usando Chat GPT:"
   ]
  },
  {
   "cell_type": "markdown",
   "id": "4b5fb38c",
   "metadata": {},
   "source": [
    "**Especificar Contexto:** Incluye información contextual en tu \"prompt\" para guiar al modelo. Por ejemplo, \"Encuentra todos los correos electrónicos en el siguiente texto:\"."
   ]
  },
  {
   "cell_type": "markdown",
   "id": "8e90b897",
   "metadata": {},
   "source": [
    "**Considerar casos especiales:** Piensa en casos extremos y límites para mejorar la robustez del patrón. Asegúrate de que tu regex maneje adecuadamente estos casos."
   ]
  },
  {
   "cell_type": "markdown",
   "id": "cc6622eb",
   "metadata": {},
   "source": [
    "**PASO 1: Empieza Simple:**\n",
    "\n",
    "Si eres nuevo en las expresiones regulares, comienza con patrones sencillos y luego avanza hacia los más complejos a medida que adquieras experiencia.\n",
    "\n",
    "**PASO 2: Prueba y Ajusta:**\n",
    "\n",
    "La validación de datos es iterativa. Prueba tus expresiones regulares en datos de ejemplo y ajusta según sea necesario.\n",
    "\n",
    "**PASO 3: Documenta tus Expresiones:**\n",
    "\n",
    "Mantén un registro de tus expresiones regulares y sus usos. Esto te ahorrará tiempo en el futuro y te ayudará a compartir conocimientos.\n",
    "\n",
    "**PASO 4: Aprovecha Recursos en Línea:**\n",
    "\n",
    "Hay muchas herramientas y recursos en línea que te permiten crear y verificar expresiones regulares antes de implementarlas.\n",
    "\n",
    "afregar link regex"
   ]
  },
  {
   "cell_type": "code",
   "execution_count": null,
   "id": "9ee38e86",
   "metadata": {},
   "outputs": [],
   "source": []
  }
 ],
 "metadata": {
  "kernelspec": {
   "display_name": "Python 3 (ipykernel)",
   "language": "python",
   "name": "python3"
  },
  "language_info": {
   "codemirror_mode": {
    "name": "ipython",
    "version": 3
   },
   "file_extension": ".py",
   "mimetype": "text/x-python",
   "name": "python",
   "nbconvert_exporter": "python",
   "pygments_lexer": "ipython3",
   "version": "3.9.12"
  }
 },
 "nbformat": 4,
 "nbformat_minor": 5
}
